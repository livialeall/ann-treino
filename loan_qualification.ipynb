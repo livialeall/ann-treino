{
 "cells": [
  {
   "cell_type": "code",
   "execution_count": 136,
   "metadata": {},
   "outputs": [],
   "source": [
    "import numpy as np\n",
    "import pandas as pd\n",
    "import tensorflow as tf\n",
    "import sklearn as sk\n",
    "import seaborn as sb"
   ]
  },
  {
   "cell_type": "markdown",
   "metadata": {},
   "source": [
    "Carregando Base de Dados"
   ]
  },
  {
   "cell_type": "code",
   "execution_count": 137,
   "metadata": {},
   "outputs": [],
   "source": [
    "dataset = pd.read_csv('loan_data.csv')"
   ]
  },
  {
   "cell_type": "markdown",
   "metadata": {},
   "source": [
    "Limpando dataset"
   ]
  },
  {
   "cell_type": "code",
   "execution_count": 138,
   "metadata": {},
   "outputs": [],
   "source": [
    "#Removendo coluna de ID\n",
    "dataset = dataset.drop('Loan_ID',axis=1)\n"
   ]
  },
  {
   "cell_type": "code",
   "execution_count": 139,
   "metadata": {},
   "outputs": [
    {
     "data": {
      "text/html": [
       "<div>\n",
       "<style scoped>\n",
       "    .dataframe tbody tr th:only-of-type {\n",
       "        vertical-align: middle;\n",
       "    }\n",
       "\n",
       "    .dataframe tbody tr th {\n",
       "        vertical-align: top;\n",
       "    }\n",
       "\n",
       "    .dataframe thead th {\n",
       "        text-align: right;\n",
       "    }\n",
       "</style>\n",
       "<table border=\"1\" class=\"dataframe\">\n",
       "  <thead>\n",
       "    <tr style=\"text-align: right;\">\n",
       "      <th></th>\n",
       "      <th>Gender</th>\n",
       "      <th>Married</th>\n",
       "      <th>Dependents</th>\n",
       "      <th>Education</th>\n",
       "      <th>Self_Employed</th>\n",
       "      <th>ApplicantIncome</th>\n",
       "      <th>CoapplicantIncome</th>\n",
       "      <th>LoanAmount</th>\n",
       "      <th>Loan_Amount_Term</th>\n",
       "      <th>Credit_History</th>\n",
       "      <th>Property_Area</th>\n",
       "      <th>Loan_Status</th>\n",
       "    </tr>\n",
       "  </thead>\n",
       "  <tbody>\n",
       "    <tr>\n",
       "      <th>0</th>\n",
       "      <td>Male</td>\n",
       "      <td>Yes</td>\n",
       "      <td>1</td>\n",
       "      <td>Graduate</td>\n",
       "      <td>No</td>\n",
       "      <td>4583</td>\n",
       "      <td>1508.0</td>\n",
       "      <td>128.0</td>\n",
       "      <td>360.0</td>\n",
       "      <td>1.0</td>\n",
       "      <td>Rural</td>\n",
       "      <td>N</td>\n",
       "    </tr>\n",
       "    <tr>\n",
       "      <th>1</th>\n",
       "      <td>Male</td>\n",
       "      <td>Yes</td>\n",
       "      <td>0</td>\n",
       "      <td>Graduate</td>\n",
       "      <td>Yes</td>\n",
       "      <td>3000</td>\n",
       "      <td>0.0</td>\n",
       "      <td>66.0</td>\n",
       "      <td>360.0</td>\n",
       "      <td>1.0</td>\n",
       "      <td>Urban</td>\n",
       "      <td>Y</td>\n",
       "    </tr>\n",
       "    <tr>\n",
       "      <th>2</th>\n",
       "      <td>Male</td>\n",
       "      <td>Yes</td>\n",
       "      <td>0</td>\n",
       "      <td>Not Graduate</td>\n",
       "      <td>No</td>\n",
       "      <td>2583</td>\n",
       "      <td>2358.0</td>\n",
       "      <td>120.0</td>\n",
       "      <td>360.0</td>\n",
       "      <td>1.0</td>\n",
       "      <td>Urban</td>\n",
       "      <td>Y</td>\n",
       "    </tr>\n",
       "    <tr>\n",
       "      <th>3</th>\n",
       "      <td>Male</td>\n",
       "      <td>No</td>\n",
       "      <td>0</td>\n",
       "      <td>Graduate</td>\n",
       "      <td>No</td>\n",
       "      <td>6000</td>\n",
       "      <td>0.0</td>\n",
       "      <td>141.0</td>\n",
       "      <td>360.0</td>\n",
       "      <td>1.0</td>\n",
       "      <td>Urban</td>\n",
       "      <td>Y</td>\n",
       "    </tr>\n",
       "    <tr>\n",
       "      <th>4</th>\n",
       "      <td>Male</td>\n",
       "      <td>Yes</td>\n",
       "      <td>0</td>\n",
       "      <td>Not Graduate</td>\n",
       "      <td>No</td>\n",
       "      <td>2333</td>\n",
       "      <td>1516.0</td>\n",
       "      <td>95.0</td>\n",
       "      <td>360.0</td>\n",
       "      <td>1.0</td>\n",
       "      <td>Urban</td>\n",
       "      <td>Y</td>\n",
       "    </tr>\n",
       "    <tr>\n",
       "      <th>...</th>\n",
       "      <td>...</td>\n",
       "      <td>...</td>\n",
       "      <td>...</td>\n",
       "      <td>...</td>\n",
       "      <td>...</td>\n",
       "      <td>...</td>\n",
       "      <td>...</td>\n",
       "      <td>...</td>\n",
       "      <td>...</td>\n",
       "      <td>...</td>\n",
       "      <td>...</td>\n",
       "      <td>...</td>\n",
       "    </tr>\n",
       "    <tr>\n",
       "      <th>376</th>\n",
       "      <td>Male</td>\n",
       "      <td>Yes</td>\n",
       "      <td>3+</td>\n",
       "      <td>Graduate</td>\n",
       "      <td>No</td>\n",
       "      <td>5703</td>\n",
       "      <td>0.0</td>\n",
       "      <td>128.0</td>\n",
       "      <td>360.0</td>\n",
       "      <td>1.0</td>\n",
       "      <td>Urban</td>\n",
       "      <td>Y</td>\n",
       "    </tr>\n",
       "    <tr>\n",
       "      <th>377</th>\n",
       "      <td>Male</td>\n",
       "      <td>Yes</td>\n",
       "      <td>0</td>\n",
       "      <td>Graduate</td>\n",
       "      <td>No</td>\n",
       "      <td>3232</td>\n",
       "      <td>1950.0</td>\n",
       "      <td>108.0</td>\n",
       "      <td>360.0</td>\n",
       "      <td>1.0</td>\n",
       "      <td>Rural</td>\n",
       "      <td>Y</td>\n",
       "    </tr>\n",
       "    <tr>\n",
       "      <th>378</th>\n",
       "      <td>Female</td>\n",
       "      <td>No</td>\n",
       "      <td>0</td>\n",
       "      <td>Graduate</td>\n",
       "      <td>No</td>\n",
       "      <td>2900</td>\n",
       "      <td>0.0</td>\n",
       "      <td>71.0</td>\n",
       "      <td>360.0</td>\n",
       "      <td>1.0</td>\n",
       "      <td>Rural</td>\n",
       "      <td>Y</td>\n",
       "    </tr>\n",
       "    <tr>\n",
       "      <th>379</th>\n",
       "      <td>Male</td>\n",
       "      <td>Yes</td>\n",
       "      <td>3+</td>\n",
       "      <td>Graduate</td>\n",
       "      <td>No</td>\n",
       "      <td>4106</td>\n",
       "      <td>0.0</td>\n",
       "      <td>40.0</td>\n",
       "      <td>180.0</td>\n",
       "      <td>1.0</td>\n",
       "      <td>Rural</td>\n",
       "      <td>Y</td>\n",
       "    </tr>\n",
       "    <tr>\n",
       "      <th>380</th>\n",
       "      <td>Female</td>\n",
       "      <td>No</td>\n",
       "      <td>0</td>\n",
       "      <td>Graduate</td>\n",
       "      <td>Yes</td>\n",
       "      <td>4583</td>\n",
       "      <td>0.0</td>\n",
       "      <td>133.0</td>\n",
       "      <td>360.0</td>\n",
       "      <td>0.0</td>\n",
       "      <td>Semiurban</td>\n",
       "      <td>N</td>\n",
       "    </tr>\n",
       "  </tbody>\n",
       "</table>\n",
       "<p>308 rows × 12 columns</p>\n",
       "</div>"
      ],
      "text/plain": [
       "     Gender Married Dependents     Education Self_Employed  ApplicantIncome  \\\n",
       "0      Male     Yes          1      Graduate            No             4583   \n",
       "1      Male     Yes          0      Graduate           Yes             3000   \n",
       "2      Male     Yes          0  Not Graduate            No             2583   \n",
       "3      Male      No          0      Graduate            No             6000   \n",
       "4      Male     Yes          0  Not Graduate            No             2333   \n",
       "..      ...     ...        ...           ...           ...              ...   \n",
       "376    Male     Yes         3+      Graduate            No             5703   \n",
       "377    Male     Yes          0      Graduate            No             3232   \n",
       "378  Female      No          0      Graduate            No             2900   \n",
       "379    Male     Yes         3+      Graduate            No             4106   \n",
       "380  Female      No          0      Graduate           Yes             4583   \n",
       "\n",
       "     CoapplicantIncome  LoanAmount  Loan_Amount_Term  Credit_History  \\\n",
       "0               1508.0       128.0             360.0             1.0   \n",
       "1                  0.0        66.0             360.0             1.0   \n",
       "2               2358.0       120.0             360.0             1.0   \n",
       "3                  0.0       141.0             360.0             1.0   \n",
       "4               1516.0        95.0             360.0             1.0   \n",
       "..                 ...         ...               ...             ...   \n",
       "376                0.0       128.0             360.0             1.0   \n",
       "377             1950.0       108.0             360.0             1.0   \n",
       "378                0.0        71.0             360.0             1.0   \n",
       "379                0.0        40.0             180.0             1.0   \n",
       "380                0.0       133.0             360.0             0.0   \n",
       "\n",
       "    Property_Area Loan_Status  \n",
       "0           Rural           N  \n",
       "1           Urban           Y  \n",
       "2           Urban           Y  \n",
       "3           Urban           Y  \n",
       "4           Urban           Y  \n",
       "..            ...         ...  \n",
       "376         Urban           Y  \n",
       "377         Rural           Y  \n",
       "378         Rural           Y  \n",
       "379         Rural           Y  \n",
       "380     Semiurban           N  \n",
       "\n",
       "[308 rows x 12 columns]"
      ]
     },
     "execution_count": 139,
     "metadata": {},
     "output_type": "execute_result"
    }
   ],
   "source": [
    "#removendo colunas nulas\n",
    "dataset = dataset.dropna()\n",
    "\n",
    "dataset"
   ]
  },
  {
   "cell_type": "code",
   "execution_count": 140,
   "metadata": {},
   "outputs": [],
   "source": [
    "mapping = {\"Y\":1,\"N\":0}\n",
    "dataset['Loan_Status'] = dataset.Loan_Status.map(mapping)"
   ]
  },
  {
   "cell_type": "markdown",
   "metadata": {},
   "source": [
    "Definindo variáveis"
   ]
  },
  {
   "cell_type": "code",
   "execution_count": 141,
   "metadata": {},
   "outputs": [],
   "source": [
    "x = dataset.drop('Loan_Status',axis=1)\n",
    "y = dataset['Loan_Status']"
   ]
  },
  {
   "cell_type": "markdown",
   "metadata": {},
   "source": [
    "Tratando o x - Variaveis Categoricas"
   ]
  },
  {
   "cell_type": "code",
   "execution_count": 142,
   "metadata": {},
   "outputs": [
    {
     "data": {
      "text/plain": [
       "Gender                object\n",
       "Married               object\n",
       "Dependents            object\n",
       "Education             object\n",
       "Self_Employed         object\n",
       "ApplicantIncome        int64\n",
       "CoapplicantIncome    float64\n",
       "LoanAmount           float64\n",
       "Loan_Amount_Term     float64\n",
       "Credit_History       float64\n",
       "Property_Area         object\n",
       "dtype: object"
      ]
     },
     "execution_count": 142,
     "metadata": {},
     "output_type": "execute_result"
    }
   ],
   "source": [
    "x.dtypes"
   ]
  },
  {
   "cell_type": "code",
   "execution_count": 143,
   "metadata": {},
   "outputs": [],
   "source": [
    "categorical_column = ['Gender','Married','Dependents','Education','Self_Employed','Property_Area']"
   ]
  },
  {
   "cell_type": "markdown",
   "metadata": {},
   "source": [
    "Caso fossem apenas duas opçoes de dados"
   ]
  },
  {
   "cell_type": "code",
   "execution_count": 144,
   "metadata": {},
   "outputs": [],
   "source": [
    "# from sklearn.preprocessing import LabelEncoder\n",
    "# le = LabelEncoder()\n",
    "# x[categorical_column] = x[categorical_column].apply(le.fit_transform)    \n",
    "\n"
   ]
  },
  {
   "cell_type": "markdown",
   "metadata": {},
   "source": [
    "Para mais opçoes de dados"
   ]
  },
  {
   "cell_type": "code",
   "execution_count": 145,
   "metadata": {},
   "outputs": [],
   "source": [
    "from sklearn.compose import ColumnTransformer\n",
    "from sklearn.preprocessing import OneHotEncoder\n",
    "\n",
    "ct = ColumnTransformer(transformers=[('encoder',OneHotEncoder(),categorical_column)],remainder='passthrough')\n",
    "x = ct.fit_transform(x)\n",
    "\n"
   ]
  },
  {
   "cell_type": "markdown",
   "metadata": {},
   "source": [
    "Separação de Teste e Treino"
   ]
  },
  {
   "cell_type": "code",
   "execution_count": 189,
   "metadata": {},
   "outputs": [
    {
     "data": {
      "text/plain": [
       "246"
      ]
     },
     "execution_count": 189,
     "metadata": {},
     "output_type": "execute_result"
    }
   ],
   "source": [
    "from sklearn.model_selection import train_test_split\n",
    "x_train,x_test,y_train,y_test = train_test_split(x,y,test_size=0.2)\n",
    "\n",
    "y_train.count()"
   ]
  },
  {
   "cell_type": "code",
   "execution_count": 190,
   "metadata": {},
   "outputs": [],
   "source": [
    "from sklearn.preprocessing import StandardScaler\n",
    "sc = StandardScaler()\n",
    "x_train = sc.fit_transform(x_train)\n",
    "x_test = sc.transform(x_test)\n"
   ]
  },
  {
   "cell_type": "markdown",
   "metadata": {},
   "source": [
    "MPL"
   ]
  },
  {
   "cell_type": "code",
   "execution_count": 210,
   "metadata": {},
   "outputs": [],
   "source": [
    "ann = tf.keras.models.Sequential()\n",
    "\n",
    "#adicionando cada neuronio\n",
    "ann.add(tf.keras.layers.Dense(units=30,activation='relu'))\n",
    "ann.add(tf.keras.layers.Dense(units=30,activation='relu'))\n",
    "ann.add(tf.keras.layers.Dense(units=1,activation='sigmoid'))\n",
    "\n",
    "ann.compile(optimizer='adam',loss='binary_crossentropy',metrics=['accuracy'])"
   ]
  },
  {
   "cell_type": "code",
   "execution_count": 211,
   "metadata": {},
   "outputs": [
    {
     "name": "stdout",
     "output_type": "stream",
     "text": [
      "Epoch 1/50\n",
      "7/7 [==============================] - 1s 27ms/step - loss: 0.6981 - accuracy: 0.5385 - val_loss: 0.6850 - val_accuracy: 0.7200\n",
      "Epoch 2/50\n",
      "7/7 [==============================] - 0s 7ms/step - loss: 0.6538 - accuracy: 0.6833 - val_loss: 0.6720 - val_accuracy: 0.7200\n",
      "Epoch 3/50\n",
      "7/7 [==============================] - 0s 7ms/step - loss: 0.6234 - accuracy: 0.7104 - val_loss: 0.6608 - val_accuracy: 0.7200\n",
      "Epoch 4/50\n",
      "7/7 [==============================] - 0s 8ms/step - loss: 0.5988 - accuracy: 0.7059 - val_loss: 0.6507 - val_accuracy: 0.7200\n",
      "Epoch 5/50\n",
      "7/7 [==============================] - 0s 7ms/step - loss: 0.5785 - accuracy: 0.7059 - val_loss: 0.6380 - val_accuracy: 0.7200\n",
      "Epoch 6/50\n",
      "7/7 [==============================] - 0s 8ms/step - loss: 0.5614 - accuracy: 0.7104 - val_loss: 0.6252 - val_accuracy: 0.7200\n",
      "Epoch 7/50\n",
      "7/7 [==============================] - 0s 6ms/step - loss: 0.5447 - accuracy: 0.7104 - val_loss: 0.6166 - val_accuracy: 0.7200\n",
      "Epoch 8/50\n",
      "7/7 [==============================] - 0s 9ms/step - loss: 0.5301 - accuracy: 0.7330 - val_loss: 0.6108 - val_accuracy: 0.7200\n",
      "Epoch 9/50\n",
      "7/7 [==============================] - 0s 7ms/step - loss: 0.5162 - accuracy: 0.7602 - val_loss: 0.6017 - val_accuracy: 0.7600\n",
      "Epoch 10/50\n",
      "7/7 [==============================] - 0s 8ms/step - loss: 0.5030 - accuracy: 0.7602 - val_loss: 0.5922 - val_accuracy: 0.8000\n",
      "Epoch 11/50\n",
      "7/7 [==============================] - 0s 7ms/step - loss: 0.4906 - accuracy: 0.7738 - val_loss: 0.5806 - val_accuracy: 0.8000\n",
      "Epoch 12/50\n",
      "7/7 [==============================] - 0s 7ms/step - loss: 0.4786 - accuracy: 0.7828 - val_loss: 0.5720 - val_accuracy: 0.8000\n",
      "Epoch 13/50\n",
      "7/7 [==============================] - 0s 7ms/step - loss: 0.4674 - accuracy: 0.7919 - val_loss: 0.5657 - val_accuracy: 0.8400\n",
      "Epoch 14/50\n",
      "7/7 [==============================] - 0s 15ms/step - loss: 0.4571 - accuracy: 0.7964 - val_loss: 0.5587 - val_accuracy: 0.8400\n",
      "Epoch 15/50\n",
      "7/7 [==============================] - 0s 10ms/step - loss: 0.4481 - accuracy: 0.7964 - val_loss: 0.5520 - val_accuracy: 0.8400\n",
      "Epoch 16/50\n",
      "7/7 [==============================] - 0s 8ms/step - loss: 0.4377 - accuracy: 0.8145 - val_loss: 0.5436 - val_accuracy: 0.8400\n",
      "Epoch 17/50\n",
      "7/7 [==============================] - 0s 9ms/step - loss: 0.4293 - accuracy: 0.8100 - val_loss: 0.5376 - val_accuracy: 0.8400\n",
      "Epoch 18/50\n",
      "7/7 [==============================] - 0s 8ms/step - loss: 0.4209 - accuracy: 0.8190 - val_loss: 0.5333 - val_accuracy: 0.8400\n",
      "Epoch 19/50\n",
      "7/7 [==============================] - 0s 7ms/step - loss: 0.4133 - accuracy: 0.8190 - val_loss: 0.5306 - val_accuracy: 0.8400\n",
      "Epoch 20/50\n",
      "7/7 [==============================] - 0s 7ms/step - loss: 0.4061 - accuracy: 0.8235 - val_loss: 0.5244 - val_accuracy: 0.8400\n",
      "Epoch 21/50\n",
      "7/7 [==============================] - 0s 8ms/step - loss: 0.3995 - accuracy: 0.8235 - val_loss: 0.5211 - val_accuracy: 0.8400\n",
      "Epoch 22/50\n",
      "7/7 [==============================] - 0s 7ms/step - loss: 0.3924 - accuracy: 0.8326 - val_loss: 0.5180 - val_accuracy: 0.8400\n",
      "Epoch 23/50\n",
      "7/7 [==============================] - 0s 8ms/step - loss: 0.3870 - accuracy: 0.8326 - val_loss: 0.5111 - val_accuracy: 0.8800\n",
      "Epoch 24/50\n",
      "7/7 [==============================] - 0s 8ms/step - loss: 0.3812 - accuracy: 0.8326 - val_loss: 0.5083 - val_accuracy: 0.8800\n",
      "Epoch 25/50\n",
      "7/7 [==============================] - 0s 7ms/step - loss: 0.3754 - accuracy: 0.8371 - val_loss: 0.5063 - val_accuracy: 0.8800\n",
      "Epoch 26/50\n",
      "7/7 [==============================] - 0s 7ms/step - loss: 0.3704 - accuracy: 0.8371 - val_loss: 0.5057 - val_accuracy: 0.8400\n",
      "Epoch 27/50\n",
      "7/7 [==============================] - 0s 8ms/step - loss: 0.3653 - accuracy: 0.8462 - val_loss: 0.4971 - val_accuracy: 0.8400\n",
      "Epoch 28/50\n",
      "7/7 [==============================] - 0s 8ms/step - loss: 0.3604 - accuracy: 0.8462 - val_loss: 0.4952 - val_accuracy: 0.8400\n",
      "Epoch 29/50\n",
      "7/7 [==============================] - 0s 9ms/step - loss: 0.3554 - accuracy: 0.8462 - val_loss: 0.4901 - val_accuracy: 0.8400\n",
      "Epoch 30/50\n",
      "7/7 [==============================] - 0s 8ms/step - loss: 0.3512 - accuracy: 0.8462 - val_loss: 0.4908 - val_accuracy: 0.8400\n",
      "Epoch 31/50\n",
      "7/7 [==============================] - 0s 8ms/step - loss: 0.3477 - accuracy: 0.8462 - val_loss: 0.4910 - val_accuracy: 0.8400\n",
      "Epoch 32/50\n",
      "7/7 [==============================] - 0s 8ms/step - loss: 0.3426 - accuracy: 0.8416 - val_loss: 0.4884 - val_accuracy: 0.8400\n",
      "Epoch 33/50\n",
      "7/7 [==============================] - 0s 8ms/step - loss: 0.3388 - accuracy: 0.8597 - val_loss: 0.4883 - val_accuracy: 0.8400\n",
      "Epoch 34/50\n",
      "7/7 [==============================] - 0s 8ms/step - loss: 0.3352 - accuracy: 0.8597 - val_loss: 0.4859 - val_accuracy: 0.8400\n",
      "Epoch 35/50\n",
      "7/7 [==============================] - 0s 7ms/step - loss: 0.3312 - accuracy: 0.8643 - val_loss: 0.4797 - val_accuracy: 0.8400\n",
      "Epoch 36/50\n",
      "7/7 [==============================] - 0s 7ms/step - loss: 0.3282 - accuracy: 0.8688 - val_loss: 0.4779 - val_accuracy: 0.8400\n",
      "Epoch 37/50\n",
      "7/7 [==============================] - 0s 7ms/step - loss: 0.3240 - accuracy: 0.8688 - val_loss: 0.4802 - val_accuracy: 0.8400\n",
      "Epoch 38/50\n",
      "7/7 [==============================] - 0s 7ms/step - loss: 0.3206 - accuracy: 0.8688 - val_loss: 0.4840 - val_accuracy: 0.8400\n",
      "Epoch 39/50\n",
      "7/7 [==============================] - 0s 7ms/step - loss: 0.3175 - accuracy: 0.8688 - val_loss: 0.4874 - val_accuracy: 0.8400\n",
      "Epoch 40/50\n",
      "7/7 [==============================] - 0s 8ms/step - loss: 0.3142 - accuracy: 0.8733 - val_loss: 0.4841 - val_accuracy: 0.8400\n",
      "Epoch 41/50\n",
      "7/7 [==============================] - 0s 7ms/step - loss: 0.3110 - accuracy: 0.8778 - val_loss: 0.4843 - val_accuracy: 0.8400\n",
      "Epoch 42/50\n",
      "7/7 [==============================] - 0s 7ms/step - loss: 0.3078 - accuracy: 0.8824 - val_loss: 0.4837 - val_accuracy: 0.8400\n",
      "Epoch 43/50\n",
      "7/7 [==============================] - 0s 7ms/step - loss: 0.3053 - accuracy: 0.8914 - val_loss: 0.4812 - val_accuracy: 0.8400\n",
      "Epoch 44/50\n",
      "7/7 [==============================] - 0s 7ms/step - loss: 0.3025 - accuracy: 0.8824 - val_loss: 0.4841 - val_accuracy: 0.8400\n",
      "Epoch 45/50\n",
      "7/7 [==============================] - 0s 7ms/step - loss: 0.2984 - accuracy: 0.8824 - val_loss: 0.4876 - val_accuracy: 0.8400\n",
      "Epoch 46/50\n",
      "7/7 [==============================] - 0s 7ms/step - loss: 0.2957 - accuracy: 0.8914 - val_loss: 0.4829 - val_accuracy: 0.8400\n",
      "Epoch 47/50\n",
      "7/7 [==============================] - 0s 7ms/step - loss: 0.2929 - accuracy: 0.8914 - val_loss: 0.4825 - val_accuracy: 0.8400\n",
      "Epoch 48/50\n",
      "7/7 [==============================] - 0s 7ms/step - loss: 0.2902 - accuracy: 0.8914 - val_loss: 0.4809 - val_accuracy: 0.8400\n",
      "Epoch 49/50\n",
      "7/7 [==============================] - 0s 8ms/step - loss: 0.2862 - accuracy: 0.9005 - val_loss: 0.4811 - val_accuracy: 0.8400\n",
      "Epoch 50/50\n",
      "7/7 [==============================] - 0s 7ms/step - loss: 0.2836 - accuracy: 0.8959 - val_loss: 0.4830 - val_accuracy: 0.8400\n"
     ]
    }
   ],
   "source": [
    "history_train = ann.fit(x_train,y_train,epochs=50,validation_split=0.1)"
   ]
  },
  {
   "cell_type": "code",
   "execution_count": 212,
   "metadata": {},
   "outputs": [
    {
     "data": {
      "text/plain": [
       "Text(0, 0.5, 'loss')"
      ]
     },
     "execution_count": 212,
     "metadata": {},
     "output_type": "execute_result"
    },
    {
     "data": {
      "image/png": "[encoded data removed]",
      "text/plain": [
       "<Figure size 640x480 with 1 Axes>"
      ]
     },
     "metadata": {},
     "output_type": "display_data"
    }
   ],
   "source": [
    "import matplotlib.pyplot as plt\n",
    "sb.lineplot(data=history_train.history[\"loss\"])\n",
    "sb.lineplot(data=history_train.history[\"val_loss\"])\n",
    "plt.xlabel(\"epochs\")\n",
    "plt.ylabel(\"loss\")"
   ]
  },
  {
   "cell_type": "code",
   "execution_count": 213,
   "metadata": {},
   "outputs": [
    {
     "data": {
      "text/plain": [
       "Text(0, 0.5, 'accuracy')"
      ]
     },
     "execution_count": 213,
     "metadata": {},
     "output_type": "execute_result"
    },
    {
     "data": {
      "image/png": "[encoded data removed]",
      "text/plain": [
       "<Figure size 640x480 with 1 Axes>"
      ]
     },
     "metadata": {},
     "output_type": "display_data"
    }
   ],
   "source": [
    "sb.lineplot(data=history_train.history[\"accuracy\"])\n",
    "plt.xlabel(\"epochs\")\n",
    "plt.ylabel(\"accuracy\")"
   ]
  },
  {
   "cell_type": "markdown",
   "metadata": {},
   "source": [
    "Passando meu dataset de teste"
   ]
  },
  {
   "cell_type": "code",
   "execution_count": 214,
   "metadata": {},
   "outputs": [
    {
     "name": "stdout",
     "output_type": "stream",
     "text": [
      "2/2 [==============================] - 0s 3ms/step\n"
     ]
    }
   ],
   "source": [
    "from sklearn.metrics import confusion_matrix,accuracy_score\n",
    "y_hat = ann.predict(x_test)\n",
    "y_hat = np.where(y_hat>0.5,1,0)"
   ]
  },
  {
   "cell_type": "code",
   "execution_count": 215,
   "metadata": {},
   "outputs": [
    {
     "data": {
      "text/plain": [
       "0.8870967741935484"
      ]
     },
     "execution_count": 215,
     "metadata": {},
     "output_type": "execute_result"
    }
   ],
   "source": [
    "accuracy_score(y_test,y_hat)"
   ]
  },
  {
   "cell_type": "code",
   "execution_count": 216,
   "metadata": {},
   "outputs": [
    {
     "data": {
      "text/plain": [
       "<Axes: >"
      ]
     },
     "execution_count": 216,
     "metadata": {},
     "output_type": "execute_result"
    },
    {
     "data": {
      "image/png": "[encoded data removed]",
      "text/plain": [
       "<Figure size 640x480 with 2 Axes>"
      ]
     },
     "metadata": {},
     "output_type": "display_data"
    }
   ],
   "source": [
    "\n",
    "sb.heatmap(confusion_matrix(y_test,y_hat),annot=True,cmap='Blues',fmt='g')"
   ]
  }
 ],
 "metadata": {
  "kernelspec": {
   "display_name": "venv",
   "language": "python",
   "name": "python3"
  },
  "language_info": {
   "codemirror_mode": {
    "name": "ipython",
    "version": 3
   },
   "file_extension": ".py",
   "mimetype": "text/x-python",
   "name": "python",
   "nbconvert_exporter": "python",
   "pygments_lexer": "ipython3",
   "version": "3.11.8"
  }
 },
 "nbformat": 4,
 "nbformat_minor": 2
}
